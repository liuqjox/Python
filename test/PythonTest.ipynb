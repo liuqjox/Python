{
  "nbformat": 4,
  "nbformat_minor": 0,
  "metadata": {
    "colab": {
      "name": "PythonTest.ipynb",
      "provenance": [],
      "authorship_tag": "ABX9TyNYHbVRnLI9hav+l61Hyc1d",
      "include_colab_link": true
    },
    "kernelspec": {
      "name": "python3",
      "display_name": "Python 3"
    }
  },
  "cells": [
    {
      "cell_type": "markdown",
      "metadata": {
        "id": "view-in-github",
        "colab_type": "text"
      },
      "source": [
        "<a href=\"https://colab.research.google.com/github/liuqjox/Python/blob/master/test/PythonTest.ipynb\" target=\"_parent\"><img src=\"https://colab.research.google.com/assets/colab-badge.svg\" alt=\"Open In Colab\"/></a>"
      ]
    },
    {
      "cell_type": "markdown",
      "metadata": {
        "id": "YIb0uPsoLWGG",
        "colab_type": "text"
      },
      "source": [
        "First Python test."
      ]
    },
    {
      "cell_type": "code",
      "metadata": {
        "id": "UWXjBiwCLdiA",
        "colab_type": "code",
        "colab": {
          "base_uri": "https://localhost:8080/",
          "height": 35
        },
        "outputId": "eddead8a-38c2-4aaa-b81e-ce7789759eeb"
      },
      "source": [
        "print('hello world')"
      ],
      "execution_count": 4,
      "outputs": [
        {
          "output_type": "stream",
          "text": [
            "hello world\n"
          ],
          "name": "stdout"
        }
      ]
    }
  ]
}